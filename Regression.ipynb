{
  "nbformat": 4,
  "nbformat_minor": 0,
  "metadata": {
    "colab": {
      "name": "Regression.ipynb",
      "provenance": [],
      "collapsed_sections": [],
      "mount_file_id": "1upfNYm3ubMRQI2IR2VSwWdvoC_sk3xA-",
      "authorship_tag": "ABX9TyN26NbrR52OhjCVRr+hgaJc",
      "include_colab_link": true
    },
    "kernelspec": {
      "name": "python3",
      "display_name": "Python 3"
    },
    "language_info": {
      "name": "python"
    }
  },
  "cells": [
    {
      "cell_type": "markdown",
      "metadata": {
        "id": "view-in-github",
        "colab_type": "text"
      },
      "source": [
        "<a href=\"https://colab.research.google.com/github/EkaFitriRamadani/MachineLearning/blob/main/Regression.ipynb\" target=\"_parent\"><img src=\"https://colab.research.google.com/assets/colab-badge.svg\" alt=\"Open In Colab\"/></a>"
      ]
    },
    {
      "cell_type": "markdown",
      "metadata": {
        "id": "2YwsNFBPUPE8"
      },
      "source": [
        "# Regresi"
      ]
    },
    {
      "cell_type": "markdown",
      "metadata": {
        "id": "qLYzDDEVUk54"
      },
      "source": [
        "Regresi adalah teknik statistik untuk pemodelan dan investigasi hubungan dua atau lebih variable. Regresi adalah membangun model untuk memprediksi nilai dari data masukan yang diberikan. metode utama dalam melakukan prediksi yaitu membangun model regresi dengan mencari hubungan antara satu atau lebih variable independent atau predictor (x) dengan variable dependent (y)."
      ]
    },
    {
      "cell_type": "markdown",
      "metadata": {
        "id": "3P_MJ-TuVTwt"
      },
      "source": [
        "Model umum regresi linear yaitu, y = b0 + b1x + e.\n",
        "untuk mencari nilai koefisien b0 dan b1, kita menggunakan pendekatan Least Squares Estimation (LSE). pendekatan ini berusaha meminimalkan fungsi objektif, j(b), yakni jumlah error kuadrat dari semua data yang digunakan untuk menemukan estimasi garis regresi."
      ]
    },
    {
      "cell_type": "markdown",
      "metadata": {
        "id": "va4iiyRVWakl"
      },
      "source": [
        "**Model Regresi Linear Multivariate (multi variable)**\n",
        "\n",
        "Dalam regresi multivariahte, untuk satu input predictor x1, kita memiliki beberapa variable, yaitu x1, x2, ..., xp yang berhubungan dengan variable respon y, dengan p adalah banyak variable. model regresi multivariate dituliskan dengan persamaan y = b0 + b1x11 + b2x22 + ... + bpxp + e."
      ]
    },
    {
      "cell_type": "markdown",
      "metadata": {
        "id": "e0JI9hTrXW5X"
      },
      "source": [
        "**Logistic Regression**\n",
        "\n",
        "Logistic regression adalah sebuah algoritma klasifikasi untuk mencari hubungan antara fitur (input) diskrit / kontinu dengan probabilitas hasil output diskrit tertentu. Tipe - tipe logistic regression :\n",
        "1. Binary Logistic Regression : logistic regresi yang hanya memiliki 2 output saja (mengklasifikasi ke dalam 2 kelas berbeda). Contoh positif - negatif.\n",
        "2. Multinominal Logistic Regression : logistic regresi yang memiliki 2 atau lebih (mengklasifikasi ke dalam 2 kelas berbeda). Contohnya kelas sentiment analysis.\n",
        "3. Ordinal Logistic Regression : logistic regresi yang memiliki 2 output atau lebih dengan memperhatikan urutan. contohnya membagi kelas mahasiswa dalam range index prestasi kumulatif 1.xx, 2xx, 3.xx dan 4.00."
      ]
    },
    {
      "cell_type": "markdown",
      "metadata": {
        "id": "Zqugb4S3bRq2"
      },
      "source": [
        "**Maximum Likelihood**\n",
        "adalah cara untuk menentukan posisi signoid yang menjadi model terbaik yang dapat dibentuk dari data - data yang tersedia. Langkah mencari Maximum Likelihood :\n",
        "1. Tentukan suatu persamaan garis sembarang, ubah kedalam bentuk signoid dan hitung nilai likelihoodnya.\n",
        "2. Lakukan rotasi (bisa disertai translasi juga) pada persamaan garis sebelumnya, kemudian ubah kembali kedalam bentuk signoid dan hitungan nilai likelihood garis baru.\n",
        "3. Ulangi terus langkah kedua hingga mendapatkan nilai likelihood tertinggi."
      ]
    },
    {
      "cell_type": "markdown",
      "metadata": {
        "id": "oZUV0NezceAE"
      },
      "source": [
        "**R-Squared**\n",
        "adalah cara yang diguanakan untuk mengetahui apakah logistic function dengan nilai maksimum likelihood dapat mempresentasikan data dengan baik (baik jika R-squared = 1, buruk jika R-squared=0)."
      ]
    },
    {
      "cell_type": "markdown",
      "metadata": {
        "id": "NsEYyQuZJWRs"
      },
      "source": [
        "# Linear Regression"
      ]
    },
    {
      "cell_type": "code",
      "metadata": {
        "id": "XbvH0L2vn_EJ"
      },
      "source": [
        "# load library yang akan digunakan\n",
        "import numpy as np\n",
        "# library untuk data analysis tools\n",
        "import pandas as pd\n",
        "# module untuk memanggil algoritma LinearRegression dan LogisticRegression\n",
        "from sklearn.linear_model import LinearRegression, LogisticRegression\n",
        "# module untuk membagi data menjadi data training dan data testing\n",
        "from sklearn.model_selection import train_test_split\n",
        "# library untuk visualisasi data\n",
        "from matplotlib import pyplot as plt"
      ],
      "execution_count": null,
      "outputs": []
    },
    {
      "cell_type": "code",
      "metadata": {
        "colab": {
          "base_uri": "https://localhost:8080/",
          "height": 206
        },
        "id": "5RAapRlvv6Dr",
        "outputId": "cb19b3af-07f6-40d1-90ef-d6e3cc92452b"
      },
      "source": [
        "# load dataset\n",
        "df = pd.read_csv(\"/content/drive/MyDrive/Datasets/data (1).csv\")\n",
        "# melihat 5 baris pertama dari data\n",
        "df.head()"
      ],
      "execution_count": null,
      "outputs": [
        {
          "output_type": "execute_result",
          "data": {
            "text/html": [
              "<div>\n",
              "<style scoped>\n",
              "    .dataframe tbody tr th:only-of-type {\n",
              "        vertical-align: middle;\n",
              "    }\n",
              "\n",
              "    .dataframe tbody tr th {\n",
              "        vertical-align: top;\n",
              "    }\n",
              "\n",
              "    .dataframe thead th {\n",
              "        text-align: right;\n",
              "    }\n",
              "</style>\n",
              "<table border=\"1\" class=\"dataframe\">\n",
              "  <thead>\n",
              "    <tr style=\"text-align: right;\">\n",
              "      <th></th>\n",
              "      <th>Unnamed: 0</th>\n",
              "      <th>horsepower</th>\n",
              "      <th>price</th>\n",
              "    </tr>\n",
              "  </thead>\n",
              "  <tbody>\n",
              "    <tr>\n",
              "      <th>0</th>\n",
              "      <td>0</td>\n",
              "      <td>111.0</td>\n",
              "      <td>13495.0</td>\n",
              "    </tr>\n",
              "    <tr>\n",
              "      <th>1</th>\n",
              "      <td>1</td>\n",
              "      <td>111.0</td>\n",
              "      <td>16500.0</td>\n",
              "    </tr>\n",
              "    <tr>\n",
              "      <th>2</th>\n",
              "      <td>2</td>\n",
              "      <td>154.0</td>\n",
              "      <td>16500.0</td>\n",
              "    </tr>\n",
              "    <tr>\n",
              "      <th>3</th>\n",
              "      <td>3</td>\n",
              "      <td>102.0</td>\n",
              "      <td>13950.0</td>\n",
              "    </tr>\n",
              "    <tr>\n",
              "      <th>4</th>\n",
              "      <td>4</td>\n",
              "      <td>115.0</td>\n",
              "      <td>17450.0</td>\n",
              "    </tr>\n",
              "  </tbody>\n",
              "</table>\n",
              "</div>"
            ],
            "text/plain": [
              "   Unnamed: 0  horsepower    price\n",
              "0           0       111.0  13495.0\n",
              "1           1       111.0  16500.0\n",
              "2           2       154.0  16500.0\n",
              "3           3       102.0  13950.0\n",
              "4           4       115.0  17450.0"
            ]
          },
          "metadata": {},
          "execution_count": 2
        }
      ]
    },
    {
      "cell_type": "code",
      "metadata": {
        "colab": {
          "base_uri": "https://localhost:8080/",
          "height": 206
        },
        "id": "LIcewvoT_tTu",
        "outputId": "2d19e513-9bfa-4065-976a-ba5093495aae"
      },
      "source": [
        "# menghapus colum \"Unnamed: 0\" pada dataset\n",
        "df.drop([\"Unnamed: 0\"], axis=1, inplace=True)\n",
        "# melihat 5 baris pertama dari data\n",
        "# independent variabel(x) : horsepower\n",
        "# dependet variabel(y) : price\n",
        "df.head()"
      ],
      "execution_count": null,
      "outputs": [
        {
          "output_type": "execute_result",
          "data": {
            "text/html": [
              "<div>\n",
              "<style scoped>\n",
              "    .dataframe tbody tr th:only-of-type {\n",
              "        vertical-align: middle;\n",
              "    }\n",
              "\n",
              "    .dataframe tbody tr th {\n",
              "        vertical-align: top;\n",
              "    }\n",
              "\n",
              "    .dataframe thead th {\n",
              "        text-align: right;\n",
              "    }\n",
              "</style>\n",
              "<table border=\"1\" class=\"dataframe\">\n",
              "  <thead>\n",
              "    <tr style=\"text-align: right;\">\n",
              "      <th></th>\n",
              "      <th>horsepower</th>\n",
              "      <th>price</th>\n",
              "    </tr>\n",
              "  </thead>\n",
              "  <tbody>\n",
              "    <tr>\n",
              "      <th>0</th>\n",
              "      <td>111.0</td>\n",
              "      <td>13495.0</td>\n",
              "    </tr>\n",
              "    <tr>\n",
              "      <th>1</th>\n",
              "      <td>111.0</td>\n",
              "      <td>16500.0</td>\n",
              "    </tr>\n",
              "    <tr>\n",
              "      <th>2</th>\n",
              "      <td>154.0</td>\n",
              "      <td>16500.0</td>\n",
              "    </tr>\n",
              "    <tr>\n",
              "      <th>3</th>\n",
              "      <td>102.0</td>\n",
              "      <td>13950.0</td>\n",
              "    </tr>\n",
              "    <tr>\n",
              "      <th>4</th>\n",
              "      <td>115.0</td>\n",
              "      <td>17450.0</td>\n",
              "    </tr>\n",
              "  </tbody>\n",
              "</table>\n",
              "</div>"
            ],
            "text/plain": [
              "   horsepower    price\n",
              "0       111.0  13495.0\n",
              "1       111.0  16500.0\n",
              "2       154.0  16500.0\n",
              "3       102.0  13950.0\n",
              "4       115.0  17450.0"
            ]
          },
          "metadata": {},
          "execution_count": 3
        }
      ]
    },
    {
      "cell_type": "code",
      "metadata": {
        "colab": {
          "base_uri": "https://localhost:8080/",
          "height": 300
        },
        "id": "LPhjPG40xXnT",
        "outputId": "cb26a7e1-a20b-4927-d424-25d41d1545fe"
      },
      "source": [
        "# melihat statistical description dari data \n",
        "df.describe()"
      ],
      "execution_count": null,
      "outputs": [
        {
          "output_type": "execute_result",
          "data": {
            "text/html": [
              "<div>\n",
              "<style scoped>\n",
              "    .dataframe tbody tr th:only-of-type {\n",
              "        vertical-align: middle;\n",
              "    }\n",
              "\n",
              "    .dataframe tbody tr th {\n",
              "        vertical-align: top;\n",
              "    }\n",
              "\n",
              "    .dataframe thead th {\n",
              "        text-align: right;\n",
              "    }\n",
              "</style>\n",
              "<table border=\"1\" class=\"dataframe\">\n",
              "  <thead>\n",
              "    <tr style=\"text-align: right;\">\n",
              "      <th></th>\n",
              "      <th>horsepower</th>\n",
              "      <th>price</th>\n",
              "    </tr>\n",
              "  </thead>\n",
              "  <tbody>\n",
              "    <tr>\n",
              "      <th>count</th>\n",
              "      <td>200.000000</td>\n",
              "      <td>200.000000</td>\n",
              "    </tr>\n",
              "    <tr>\n",
              "      <th>mean</th>\n",
              "      <td>103.320000</td>\n",
              "      <td>13230.375000</td>\n",
              "    </tr>\n",
              "    <tr>\n",
              "      <th>std</th>\n",
              "      <td>37.468615</td>\n",
              "      <td>7960.155239</td>\n",
              "    </tr>\n",
              "    <tr>\n",
              "      <th>min</th>\n",
              "      <td>48.000000</td>\n",
              "      <td>5118.000000</td>\n",
              "    </tr>\n",
              "    <tr>\n",
              "      <th>25%</th>\n",
              "      <td>70.000000</td>\n",
              "      <td>7775.000000</td>\n",
              "    </tr>\n",
              "    <tr>\n",
              "      <th>50%</th>\n",
              "      <td>95.000000</td>\n",
              "      <td>10320.000000</td>\n",
              "    </tr>\n",
              "    <tr>\n",
              "      <th>75%</th>\n",
              "      <td>116.000000</td>\n",
              "      <td>16500.750000</td>\n",
              "    </tr>\n",
              "    <tr>\n",
              "      <th>max</th>\n",
              "      <td>262.000000</td>\n",
              "      <td>45400.000000</td>\n",
              "    </tr>\n",
              "  </tbody>\n",
              "</table>\n",
              "</div>"
            ],
            "text/plain": [
              "       horsepower         price\n",
              "count  200.000000    200.000000\n",
              "mean   103.320000  13230.375000\n",
              "std     37.468615   7960.155239\n",
              "min     48.000000   5118.000000\n",
              "25%     70.000000   7775.000000\n",
              "50%     95.000000  10320.000000\n",
              "75%    116.000000  16500.750000\n",
              "max    262.000000  45400.000000"
            ]
          },
          "metadata": {},
          "execution_count": 4
        }
      ]
    },
    {
      "cell_type": "code",
      "metadata": {
        "colab": {
          "base_uri": "https://localhost:8080/"
        },
        "id": "9ssnCyzWyK1t",
        "outputId": "28e95cf0-e159-470e-839e-e2dd5660677a"
      },
      "source": [
        "# mencari dan menangani missing value\n",
        "df.isnull().sum()"
      ],
      "execution_count": null,
      "outputs": [
        {
          "output_type": "execute_result",
          "data": {
            "text/plain": [
              "horsepower    0\n",
              "price         0\n",
              "dtype: int64"
            ]
          },
          "metadata": {},
          "execution_count": 5
        }
      ]
    },
    {
      "cell_type": "code",
      "metadata": {
        "id": "tdAl6xSdybRf"
      },
      "source": [
        "# membuat variabel X dan y\n",
        "X = df['horsepower'].values[:, np.newaxis]\n",
        "y = df['price']"
      ],
      "execution_count": null,
      "outputs": []
    },
    {
      "cell_type": "code",
      "metadata": {
        "id": "sqBl00vlyuZl"
      },
      "source": [
        "# membagi data menjadi data training dan data testing denngan porsi 70:30\n",
        "X_train, X_test, y_train, y_test = train_test_split(X, y, test_size=0.3)"
      ],
      "execution_count": null,
      "outputs": []
    },
    {
      "cell_type": "code",
      "metadata": {
        "colab": {
          "base_uri": "https://localhost:8080/"
        },
        "id": "SHNgc9Q4zFVQ",
        "outputId": "d64a15d7-3bfe-4719-ea4b-3e6194d3e9ac"
      },
      "source": [
        "# membuat object linear regression\n",
        "lr = LinearRegression()\n",
        "# training model\n",
        "lr.fit(X, y)"
      ],
      "execution_count": null,
      "outputs": [
        {
          "output_type": "execute_result",
          "data": {
            "text/plain": [
              "LinearRegression(copy_X=True, fit_intercept=True, n_jobs=None, normalize=False)"
            ]
          },
          "metadata": {},
          "execution_count": 8
        }
      ]
    },
    {
      "cell_type": "code",
      "metadata": {
        "colab": {
          "base_uri": "https://localhost:8080/"
        },
        "id": "BO1W-kgIzTlm",
        "outputId": "2710aed1-ed42-4d70-a498-1f4c3bfeef47"
      },
      "source": [
        "# menampilkan nilai intercept(b) slope/koefisien (m)\n",
        "# Y = mx + b + e\n",
        "print(\"Intercept :\" + str(lr.intercept_))\n",
        "print(\"Coeficient :\" + str(lr.coef_))"
      ],
      "execution_count": null,
      "outputs": [
        {
          "output_type": "stream",
          "name": "stdout",
          "text": [
            "Intercept :-4573.358460397674\n",
            "Coeficient :[172.31642916]\n"
          ]
        }
      ]
    },
    {
      "cell_type": "code",
      "metadata": {
        "id": "Lx8NpOUcA9jI"
      },
      "source": [
        "# membuat variabel X_test_1\n",
        "X_test_1 = [[154.0],[16500.0]]"
      ],
      "execution_count": null,
      "outputs": []
    },
    {
      "cell_type": "code",
      "metadata": {
        "id": "43nAifwbBLQP"
      },
      "source": [
        "# prediksi harga mobil dengan horespower 154 dan harga 16500\n",
        "predict_result = lr.predict(X_test_1)"
      ],
      "execution_count": null,
      "outputs": []
    },
    {
      "cell_type": "code",
      "metadata": {
        "colab": {
          "base_uri": "https://localhost:8080/"
        },
        "id": "DQLOnrG5BWx-",
        "outputId": "ec1916f9-c42f-4b0a-f8ec-bcd1e5912d64"
      },
      "source": [
        "# melihat hasil prediksi\n",
        "print(predict_result)"
      ],
      "execution_count": null,
      "outputs": [
        {
          "output_type": "stream",
          "name": "stdout",
          "text": [
            "[  21963.37162963 2838647.72261356]\n"
          ]
        }
      ]
    },
    {
      "cell_type": "code",
      "metadata": {
        "colab": {
          "base_uri": "https://localhost:8080/",
          "height": 295
        },
        "id": "20eofKh_zuQf",
        "outputId": "b109bbfe-1b74-42e1-ed89-3fd1c49d7013"
      },
      "source": [
        "# visualisasi regression linear\n",
        "predict_for_xtrain = lr.predict(X)\n",
        "\n",
        "temporary_dataframe = pd.DataFrame({\n",
        "    'x' : df[\"horsepower\"],\n",
        "    'y' : predict_for_xtrain\n",
        "})\n",
        "\n",
        "plt.scatter(df[\"horsepower\"], df[\"price\"])\n",
        "plt.plot(temporary_dataframe['x'], temporary_dataframe['y'], color='tomato', linewidth=1.5)\n",
        "\n",
        "plt.xlabel(\"Horsepower\")\n",
        "plt.ylabel(\"Price\")\n",
        "\n",
        "plt.title(\"Horsepower vs Price\")\n",
        "plt.show()"
      ],
      "execution_count": null,
      "outputs": [
        {
          "output_type": "display_data",
          "data": {
            "image/png": "[encoded data removed]",
            "text/plain": [
              "<Figure size 432x288 with 1 Axes>"
            ]
          },
          "metadata": {
            "needs_background": "light"
          }
        }
      ]
    },
    {
      "cell_type": "markdown",
      "metadata": {
        "id": "vmJFx3NICYW1"
      },
      "source": [
        "# Logistic Regression"
      ]
    },
    {
      "cell_type": "code",
      "metadata": {
        "colab": {
          "base_uri": "https://localhost:8080/",
          "height": 261
        },
        "id": "EYxysgorCclm",
        "outputId": "f6d27323-4884-44e7-afc4-f30d02e29ed1"
      },
      "source": [
        "# load dataset\n",
        "df_1 = pd.read_csv(\"/content/drive/MyDrive/Datasets/winequality-red.csv\")\n",
        "# melihat 5 baris pertama dari data\n",
        "df_1.head()"
      ],
      "execution_count": null,
      "outputs": [
        {
          "output_type": "execute_result",
          "data": {
            "text/html": [
              "<div>\n",
              "<style scoped>\n",
              "    .dataframe tbody tr th:only-of-type {\n",
              "        vertical-align: middle;\n",
              "    }\n",
              "\n",
              "    .dataframe tbody tr th {\n",
              "        vertical-align: top;\n",
              "    }\n",
              "\n",
              "    .dataframe thead th {\n",
              "        text-align: right;\n",
              "    }\n",
              "</style>\n",
              "<table border=\"1\" class=\"dataframe\">\n",
              "  <thead>\n",
              "    <tr style=\"text-align: right;\">\n",
              "      <th></th>\n",
              "      <th>fixed acidity</th>\n",
              "      <th>volatile acidity</th>\n",
              "      <th>citric acid</th>\n",
              "      <th>residual sugar</th>\n",
              "      <th>chlorides</th>\n",
              "      <th>free sulfur dioxide</th>\n",
              "      <th>total sulfur dioxide</th>\n",
              "      <th>density</th>\n",
              "      <th>pH</th>\n",
              "      <th>sulphates</th>\n",
              "      <th>alcohol</th>\n",
              "      <th>quality</th>\n",
              "    </tr>\n",
              "  </thead>\n",
              "  <tbody>\n",
              "    <tr>\n",
              "      <th>0</th>\n",
              "      <td>7.4</td>\n",
              "      <td>0.70</td>\n",
              "      <td>0.00</td>\n",
              "      <td>1.9</td>\n",
              "      <td>0.076</td>\n",
              "      <td>11.0</td>\n",
              "      <td>34.0</td>\n",
              "      <td>0.9978</td>\n",
              "      <td>3.51</td>\n",
              "      <td>0.56</td>\n",
              "      <td>9.4</td>\n",
              "      <td>5</td>\n",
              "    </tr>\n",
              "    <tr>\n",
              "      <th>1</th>\n",
              "      <td>7.8</td>\n",
              "      <td>0.88</td>\n",
              "      <td>0.00</td>\n",
              "      <td>2.6</td>\n",
              "      <td>0.098</td>\n",
              "      <td>25.0</td>\n",
              "      <td>67.0</td>\n",
              "      <td>0.9968</td>\n",
              "      <td>3.20</td>\n",
              "      <td>0.68</td>\n",
              "      <td>9.8</td>\n",
              "      <td>5</td>\n",
              "    </tr>\n",
              "    <tr>\n",
              "      <th>2</th>\n",
              "      <td>7.8</td>\n",
              "      <td>0.76</td>\n",
              "      <td>0.04</td>\n",
              "      <td>2.3</td>\n",
              "      <td>0.092</td>\n",
              "      <td>15.0</td>\n",
              "      <td>54.0</td>\n",
              "      <td>0.9970</td>\n",
              "      <td>3.26</td>\n",
              "      <td>0.65</td>\n",
              "      <td>9.8</td>\n",
              "      <td>5</td>\n",
              "    </tr>\n",
              "    <tr>\n",
              "      <th>3</th>\n",
              "      <td>11.2</td>\n",
              "      <td>0.28</td>\n",
              "      <td>0.56</td>\n",
              "      <td>1.9</td>\n",
              "      <td>0.075</td>\n",
              "      <td>17.0</td>\n",
              "      <td>60.0</td>\n",
              "      <td>0.9980</td>\n",
              "      <td>3.16</td>\n",
              "      <td>0.58</td>\n",
              "      <td>9.8</td>\n",
              "      <td>6</td>\n",
              "    </tr>\n",
              "    <tr>\n",
              "      <th>4</th>\n",
              "      <td>7.4</td>\n",
              "      <td>0.70</td>\n",
              "      <td>0.00</td>\n",
              "      <td>1.9</td>\n",
              "      <td>0.076</td>\n",
              "      <td>11.0</td>\n",
              "      <td>34.0</td>\n",
              "      <td>0.9978</td>\n",
              "      <td>3.51</td>\n",
              "      <td>0.56</td>\n",
              "      <td>9.4</td>\n",
              "      <td>5</td>\n",
              "    </tr>\n",
              "  </tbody>\n",
              "</table>\n",
              "</div>"
            ],
            "text/plain": [
              "   fixed acidity  volatile acidity  citric acid  ...  sulphates  alcohol  quality\n",
              "0            7.4              0.70         0.00  ...       0.56      9.4        5\n",
              "1            7.8              0.88         0.00  ...       0.68      9.8        5\n",
              "2            7.8              0.76         0.04  ...       0.65      9.8        5\n",
              "3           11.2              0.28         0.56  ...       0.58      9.8        6\n",
              "4            7.4              0.70         0.00  ...       0.56      9.4        5\n",
              "\n",
              "[5 rows x 12 columns]"
            ]
          },
          "metadata": {},
          "execution_count": 14
        }
      ]
    },
    {
      "cell_type": "code",
      "metadata": {
        "colab": {
          "base_uri": "https://localhost:8080/",
          "height": 297
        },
        "id": "WfCaab46DQHS",
        "outputId": "1785633c-7c76-4290-9e00-896982a0326a"
      },
      "source": [
        "# visualisasi perbandingan fixes acidity dan quality\n",
        "df_1.plot(x = \"fixed acidity\", y = \"quality\", style = \"o\")"
      ],
      "execution_count": null,
      "outputs": [
        {
          "output_type": "execute_result",
          "data": {
            "text/plain": [
              "<matplotlib.axes._subplots.AxesSubplot at 0x7f4a221481d0>"
            ]
          },
          "metadata": {},
          "execution_count": 15
        },
        {
          "output_type": "display_data",
          "data": {
            "image/png": "[encoded data removed]",
            "text/plain": [
              "<Figure size 432x288 with 1 Axes>"
            ]
          },
          "metadata": {
            "needs_background": "light"
          }
        }
      ]
    },
    {
      "cell_type": "code",
      "metadata": {
        "id": "H2LPEXROD7jk"
      },
      "source": [
        "# membuat variabel  X dan y\n",
        "X = df_1.drop(\"quality\", axis=1)\n",
        "y = df_1[\"quality\"]"
      ],
      "execution_count": null,
      "outputs": []
    },
    {
      "cell_type": "code",
      "metadata": {
        "colab": {
          "base_uri": "https://localhost:8080/"
        },
        "id": "IoZaVlosHZBh",
        "outputId": "5824aaa4-ce77-43c2-a812-bbdf749a5f37"
      },
      "source": [
        "# mencari dan menangani missing value\n",
        "df_1.isnull().sum()"
      ],
      "execution_count": null,
      "outputs": [
        {
          "output_type": "execute_result",
          "data": {
            "text/plain": [
              "fixed acidity           0\n",
              "volatile acidity        0\n",
              "citric acid             0\n",
              "residual sugar          0\n",
              "chlorides               0\n",
              "free sulfur dioxide     0\n",
              "total sulfur dioxide    0\n",
              "density                 0\n",
              "pH                      0\n",
              "sulphates               0\n",
              "alcohol                 0\n",
              "quality                 0\n",
              "dtype: int64"
            ]
          },
          "metadata": {},
          "execution_count": 17
        }
      ]
    },
    {
      "cell_type": "code",
      "metadata": {
        "id": "_q5VjDLdEVRu"
      },
      "source": [
        "# membagi data menjadi data training dan data testing denngan porsi 70:30\n",
        "X_train, X_test, y_train, y_test = train_test_split(X, y, test_size=0.3)"
      ],
      "execution_count": null,
      "outputs": []
    },
    {
      "cell_type": "code",
      "metadata": {
        "colab": {
          "base_uri": "https://localhost:8080/"
        },
        "id": "6JRpCDmuHRti",
        "outputId": "316ba379-4994-4500-cce3-1a8c22f22e28"
      },
      "source": [
        "# membuat object linear regression\n",
        "model_lrg = LogisticRegression()\n",
        "# training model dengan menggunakan data training yang telah dibagi\n",
        "model_lrg.fit(X_train, y_train)"
      ],
      "execution_count": null,
      "outputs": [
        {
          "output_type": "stream",
          "name": "stderr",
          "text": [
            "/usr/local/lib/python3.7/dist-packages/sklearn/linear_model/_logistic.py:940: ConvergenceWarning: lbfgs failed to converge (status=1):\n",
            "STOP: TOTAL NO. of ITERATIONS REACHED LIMIT.\n",
            "\n",
            "Increase the number of iterations (max_iter) or scale the data as shown in:\n",
            "    https://scikit-learn.org/stable/modules/preprocessing.html\n",
            "Please also refer to the documentation for alternative solver options:\n",
            "    https://scikit-learn.org/stable/modules/linear_model.html#logistic-regression\n",
            "  extra_warning_msg=_LOGISTIC_SOLVER_CONVERGENCE_MSG)\n"
          ]
        },
        {
          "output_type": "execute_result",
          "data": {
            "text/plain": [
              "LogisticRegression(C=1.0, class_weight=None, dual=False, fit_intercept=True,\n",
              "                   intercept_scaling=1, l1_ratio=None, max_iter=100,\n",
              "                   multi_class='auto', n_jobs=None, penalty='l2',\n",
              "                   random_state=None, solver='lbfgs', tol=0.0001, verbose=0,\n",
              "                   warm_start=False)"
            ]
          },
          "metadata": {},
          "execution_count": 19
        }
      ]
    },
    {
      "cell_type": "code",
      "metadata": {
        "colab": {
          "base_uri": "https://localhost:8080/"
        },
        "id": "c2-hdA7jHsbA",
        "outputId": "ea0861ad-e501-4d32-fc39-39f56ac00056"
      },
      "source": [
        "# melihat data testing variabel X\n",
        "print(X_test)"
      ],
      "execution_count": null,
      "outputs": [
        {
          "output_type": "stream",
          "name": "stdout",
          "text": [
            "      fixed acidity  volatile acidity  citric acid  ...    pH  sulphates  alcohol\n",
            "1192            7.2              0.25         0.37  ...  3.52       0.80     12.4\n",
            "572            10.2              0.24         0.49  ...  3.14       0.61     10.4\n",
            "1418            7.8              0.53         0.01  ...  3.16       0.46      9.8\n",
            "1481            8.2              0.28         0.60  ...  3.39       0.68     10.6\n",
            "54              7.6              0.51         0.15  ...  3.17       0.63     10.2\n",
            "...             ...               ...          ...  ...   ...        ...      ...\n",
            "1419            7.7              0.64         0.21  ...  3.27       0.45      9.9\n",
            "623             7.9              0.51         0.25  ...  3.49       0.96     12.1\n",
            "1345            8.2              0.44         0.24  ...  3.25       0.53     10.2\n",
            "859             6.8              0.56         0.22  ...  3.40       0.82     11.2\n",
            "1021           11.3              0.36         0.66  ...  3.20       0.53     11.9\n",
            "\n",
            "[480 rows x 11 columns]\n"
          ]
        }
      ]
    },
    {
      "cell_type": "code",
      "metadata": {
        "id": "8V_19eexHzmW"
      },
      "source": [
        "X_test.reset_index(drop=True, inplace=True)"
      ],
      "execution_count": null,
      "outputs": []
    },
    {
      "cell_type": "code",
      "metadata": {
        "id": "vXwWb0nFH-BS"
      },
      "source": [
        "# prediksi data training\n",
        "prd = model_lrg.predict(X_test)"
      ],
      "execution_count": null,
      "outputs": []
    },
    {
      "cell_type": "code",
      "metadata": {
        "id": "ngbC3RXOIFBX"
      },
      "source": [
        "# membuat data frame\n",
        "prd_df = pd.DataFrame(prd)"
      ],
      "execution_count": null,
      "outputs": []
    },
    {
      "cell_type": "code",
      "metadata": {
        "colab": {
          "base_uri": "https://localhost:8080/"
        },
        "id": "ew0L-ryiIQNd",
        "outputId": "9e611361-6964-4d33-bcf3-35d698fa3fe8"
      },
      "source": [
        "# melihat data frame prediksi\n",
        "print(prd_df)"
      ],
      "execution_count": null,
      "outputs": [
        {
          "output_type": "stream",
          "name": "stdout",
          "text": [
            "     0\n",
            "0    6\n",
            "1    6\n",
            "2    5\n",
            "3    6\n",
            "4    6\n",
            "..  ..\n",
            "475  5\n",
            "476  6\n",
            "477  6\n",
            "478  6\n",
            "479  6\n",
            "\n",
            "[480 rows x 1 columns]\n"
          ]
        }
      ]
    },
    {
      "cell_type": "code",
      "metadata": {
        "id": "bfnWB5yVIVlZ"
      },
      "source": [
        "result = pd.concat([X_test, prd_df], axis=1, ignore_index=True)"
      ],
      "execution_count": null,
      "outputs": []
    },
    {
      "cell_type": "code",
      "metadata": {
        "colab": {
          "base_uri": "https://localhost:8080/",
          "height": 424
        },
        "id": "Opi48nV5ImZM",
        "outputId": "afe881c0-8897-4b3e-e73d-b1a25e7c8f80"
      },
      "source": [
        "result"
      ],
      "execution_count": null,
      "outputs": [
        {
          "output_type": "execute_result",
          "data": {
            "text/html": [
              "<div>\n",
              "<style scoped>\n",
              "    .dataframe tbody tr th:only-of-type {\n",
              "        vertical-align: middle;\n",
              "    }\n",
              "\n",
              "    .dataframe tbody tr th {\n",
              "        vertical-align: top;\n",
              "    }\n",
              "\n",
              "    .dataframe thead th {\n",
              "        text-align: right;\n",
              "    }\n",
              "</style>\n",
              "<table border=\"1\" class=\"dataframe\">\n",
              "  <thead>\n",
              "    <tr style=\"text-align: right;\">\n",
              "      <th></th>\n",
              "      <th>0</th>\n",
              "      <th>1</th>\n",
              "      <th>2</th>\n",
              "      <th>3</th>\n",
              "      <th>4</th>\n",
              "      <th>5</th>\n",
              "      <th>6</th>\n",
              "      <th>7</th>\n",
              "      <th>8</th>\n",
              "      <th>9</th>\n",
              "      <th>10</th>\n",
              "      <th>11</th>\n",
              "    </tr>\n",
              "  </thead>\n",
              "  <tbody>\n",
              "    <tr>\n",
              "      <th>0</th>\n",
              "      <td>7.2</td>\n",
              "      <td>0.25</td>\n",
              "      <td>0.37</td>\n",
              "      <td>2.5</td>\n",
              "      <td>0.063</td>\n",
              "      <td>11.0</td>\n",
              "      <td>41.0</td>\n",
              "      <td>0.99439</td>\n",
              "      <td>3.52</td>\n",
              "      <td>0.80</td>\n",
              "      <td>12.4</td>\n",
              "      <td>6</td>\n",
              "    </tr>\n",
              "    <tr>\n",
              "      <th>1</th>\n",
              "      <td>10.2</td>\n",
              "      <td>0.24</td>\n",
              "      <td>0.49</td>\n",
              "      <td>2.4</td>\n",
              "      <td>0.075</td>\n",
              "      <td>10.0</td>\n",
              "      <td>28.0</td>\n",
              "      <td>0.99780</td>\n",
              "      <td>3.14</td>\n",
              "      <td>0.61</td>\n",
              "      <td>10.4</td>\n",
              "      <td>6</td>\n",
              "    </tr>\n",
              "    <tr>\n",
              "      <th>2</th>\n",
              "      <td>7.8</td>\n",
              "      <td>0.53</td>\n",
              "      <td>0.01</td>\n",
              "      <td>1.6</td>\n",
              "      <td>0.077</td>\n",
              "      <td>3.0</td>\n",
              "      <td>19.0</td>\n",
              "      <td>0.99500</td>\n",
              "      <td>3.16</td>\n",
              "      <td>0.46</td>\n",
              "      <td>9.8</td>\n",
              "      <td>5</td>\n",
              "    </tr>\n",
              "    <tr>\n",
              "      <th>3</th>\n",
              "      <td>8.2</td>\n",
              "      <td>0.28</td>\n",
              "      <td>0.60</td>\n",
              "      <td>3.0</td>\n",
              "      <td>0.104</td>\n",
              "      <td>10.0</td>\n",
              "      <td>22.0</td>\n",
              "      <td>0.99828</td>\n",
              "      <td>3.39</td>\n",
              "      <td>0.68</td>\n",
              "      <td>10.6</td>\n",
              "      <td>6</td>\n",
              "    </tr>\n",
              "    <tr>\n",
              "      <th>4</th>\n",
              "      <td>7.6</td>\n",
              "      <td>0.51</td>\n",
              "      <td>0.15</td>\n",
              "      <td>2.8</td>\n",
              "      <td>0.110</td>\n",
              "      <td>33.0</td>\n",
              "      <td>73.0</td>\n",
              "      <td>0.99550</td>\n",
              "      <td>3.17</td>\n",
              "      <td>0.63</td>\n",
              "      <td>10.2</td>\n",
              "      <td>6</td>\n",
              "    </tr>\n",
              "    <tr>\n",
              "      <th>...</th>\n",
              "      <td>...</td>\n",
              "      <td>...</td>\n",
              "      <td>...</td>\n",
              "      <td>...</td>\n",
              "      <td>...</td>\n",
              "      <td>...</td>\n",
              "      <td>...</td>\n",
              "      <td>...</td>\n",
              "      <td>...</td>\n",
              "      <td>...</td>\n",
              "      <td>...</td>\n",
              "      <td>...</td>\n",
              "    </tr>\n",
              "    <tr>\n",
              "      <th>475</th>\n",
              "      <td>7.7</td>\n",
              "      <td>0.64</td>\n",
              "      <td>0.21</td>\n",
              "      <td>2.2</td>\n",
              "      <td>0.077</td>\n",
              "      <td>32.0</td>\n",
              "      <td>133.0</td>\n",
              "      <td>0.99560</td>\n",
              "      <td>3.27</td>\n",
              "      <td>0.45</td>\n",
              "      <td>9.9</td>\n",
              "      <td>5</td>\n",
              "    </tr>\n",
              "    <tr>\n",
              "      <th>476</th>\n",
              "      <td>7.9</td>\n",
              "      <td>0.51</td>\n",
              "      <td>0.25</td>\n",
              "      <td>2.9</td>\n",
              "      <td>0.077</td>\n",
              "      <td>21.0</td>\n",
              "      <td>45.0</td>\n",
              "      <td>0.99740</td>\n",
              "      <td>3.49</td>\n",
              "      <td>0.96</td>\n",
              "      <td>12.1</td>\n",
              "      <td>6</td>\n",
              "    </tr>\n",
              "    <tr>\n",
              "      <th>477</th>\n",
              "      <td>8.2</td>\n",
              "      <td>0.44</td>\n",
              "      <td>0.24</td>\n",
              "      <td>2.3</td>\n",
              "      <td>0.063</td>\n",
              "      <td>10.0</td>\n",
              "      <td>28.0</td>\n",
              "      <td>0.99613</td>\n",
              "      <td>3.25</td>\n",
              "      <td>0.53</td>\n",
              "      <td>10.2</td>\n",
              "      <td>6</td>\n",
              "    </tr>\n",
              "    <tr>\n",
              "      <th>478</th>\n",
              "      <td>6.8</td>\n",
              "      <td>0.56</td>\n",
              "      <td>0.22</td>\n",
              "      <td>1.8</td>\n",
              "      <td>0.074</td>\n",
              "      <td>15.0</td>\n",
              "      <td>24.0</td>\n",
              "      <td>0.99438</td>\n",
              "      <td>3.40</td>\n",
              "      <td>0.82</td>\n",
              "      <td>11.2</td>\n",
              "      <td>6</td>\n",
              "    </tr>\n",
              "    <tr>\n",
              "      <th>479</th>\n",
              "      <td>11.3</td>\n",
              "      <td>0.36</td>\n",
              "      <td>0.66</td>\n",
              "      <td>2.4</td>\n",
              "      <td>0.123</td>\n",
              "      <td>3.0</td>\n",
              "      <td>8.0</td>\n",
              "      <td>0.99642</td>\n",
              "      <td>3.20</td>\n",
              "      <td>0.53</td>\n",
              "      <td>11.9</td>\n",
              "      <td>6</td>\n",
              "    </tr>\n",
              "  </tbody>\n",
              "</table>\n",
              "<p>480 rows × 12 columns</p>\n",
              "</div>"
            ],
            "text/plain": [
              "       0     1     2    3      4     5      6        7     8     9     10  11\n",
              "0     7.2  0.25  0.37  2.5  0.063  11.0   41.0  0.99439  3.52  0.80  12.4   6\n",
              "1    10.2  0.24  0.49  2.4  0.075  10.0   28.0  0.99780  3.14  0.61  10.4   6\n",
              "2     7.8  0.53  0.01  1.6  0.077   3.0   19.0  0.99500  3.16  0.46   9.8   5\n",
              "3     8.2  0.28  0.60  3.0  0.104  10.0   22.0  0.99828  3.39  0.68  10.6   6\n",
              "4     7.6  0.51  0.15  2.8  0.110  33.0   73.0  0.99550  3.17  0.63  10.2   6\n",
              "..    ...   ...   ...  ...    ...   ...    ...      ...   ...   ...   ...  ..\n",
              "475   7.7  0.64  0.21  2.2  0.077  32.0  133.0  0.99560  3.27  0.45   9.9   5\n",
              "476   7.9  0.51  0.25  2.9  0.077  21.0   45.0  0.99740  3.49  0.96  12.1   6\n",
              "477   8.2  0.44  0.24  2.3  0.063  10.0   28.0  0.99613  3.25  0.53  10.2   6\n",
              "478   6.8  0.56  0.22  1.8  0.074  15.0   24.0  0.99438  3.40  0.82  11.2   6\n",
              "479  11.3  0.36  0.66  2.4  0.123   3.0    8.0  0.99642  3.20  0.53  11.9   6\n",
              "\n",
              "[480 rows x 12 columns]"
            ]
          },
          "metadata": {},
          "execution_count": 26
        }
      ]
    },
    {
      "cell_type": "code",
      "metadata": {
        "colab": {
          "base_uri": "https://localhost:8080/",
          "height": 424
        },
        "id": "vLpBg2wOeA4u",
        "outputId": "ba590f88-eac8-4d41-f97b-a41b2abcd520"
      },
      "source": [
        "result = pd.concat([y_test, prd_df], axis=1, ignore_index=True)\n",
        "result"
      ],
      "execution_count": null,
      "outputs": [
        {
          "output_type": "execute_result",
          "data": {
            "text/html": [
              "<div>\n",
              "<style scoped>\n",
              "    .dataframe tbody tr th:only-of-type {\n",
              "        vertical-align: middle;\n",
              "    }\n",
              "\n",
              "    .dataframe tbody tr th {\n",
              "        vertical-align: top;\n",
              "    }\n",
              "\n",
              "    .dataframe thead th {\n",
              "        text-align: right;\n",
              "    }\n",
              "</style>\n",
              "<table border=\"1\" class=\"dataframe\">\n",
              "  <thead>\n",
              "    <tr style=\"text-align: right;\">\n",
              "      <th></th>\n",
              "      <th>0</th>\n",
              "      <th>1</th>\n",
              "    </tr>\n",
              "  </thead>\n",
              "  <tbody>\n",
              "    <tr>\n",
              "      <th>0</th>\n",
              "      <td>NaN</td>\n",
              "      <td>6.0</td>\n",
              "    </tr>\n",
              "    <tr>\n",
              "      <th>1</th>\n",
              "      <td>NaN</td>\n",
              "      <td>6.0</td>\n",
              "    </tr>\n",
              "    <tr>\n",
              "      <th>2</th>\n",
              "      <td>NaN</td>\n",
              "      <td>5.0</td>\n",
              "    </tr>\n",
              "    <tr>\n",
              "      <th>3</th>\n",
              "      <td>NaN</td>\n",
              "      <td>6.0</td>\n",
              "    </tr>\n",
              "    <tr>\n",
              "      <th>4</th>\n",
              "      <td>5.0</td>\n",
              "      <td>6.0</td>\n",
              "    </tr>\n",
              "    <tr>\n",
              "      <th>...</th>\n",
              "      <td>...</td>\n",
              "      <td>...</td>\n",
              "    </tr>\n",
              "    <tr>\n",
              "      <th>1583</th>\n",
              "      <td>5.0</td>\n",
              "      <td>NaN</td>\n",
              "    </tr>\n",
              "    <tr>\n",
              "      <th>1588</th>\n",
              "      <td>6.0</td>\n",
              "      <td>NaN</td>\n",
              "    </tr>\n",
              "    <tr>\n",
              "      <th>1590</th>\n",
              "      <td>6.0</td>\n",
              "      <td>NaN</td>\n",
              "    </tr>\n",
              "    <tr>\n",
              "      <th>1591</th>\n",
              "      <td>6.0</td>\n",
              "      <td>NaN</td>\n",
              "    </tr>\n",
              "    <tr>\n",
              "      <th>1598</th>\n",
              "      <td>6.0</td>\n",
              "      <td>NaN</td>\n",
              "    </tr>\n",
              "  </tbody>\n",
              "</table>\n",
              "<p>819 rows × 2 columns</p>\n",
              "</div>"
            ],
            "text/plain": [
              "        0    1\n",
              "0     NaN  6.0\n",
              "1     NaN  6.0\n",
              "2     NaN  5.0\n",
              "3     NaN  6.0\n",
              "4     5.0  6.0\n",
              "...   ...  ...\n",
              "1583  5.0  NaN\n",
              "1588  6.0  NaN\n",
              "1590  6.0  NaN\n",
              "1591  6.0  NaN\n",
              "1598  6.0  NaN\n",
              "\n",
              "[819 rows x 2 columns]"
            ]
          },
          "metadata": {},
          "execution_count": 28
        }
      ]
    }
  ]
}